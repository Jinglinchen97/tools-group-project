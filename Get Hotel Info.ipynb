{
 "cells": [
  {
   "cell_type": "code",
   "execution_count": null,
   "metadata": {
    "collapsed": true
   },
   "outputs": [],
   "source": [
    "#Paris 2.14-2.21 $3000 person:1\n",
    "#Input: destination; start date; end date; budget\n",
    "#Output Hotel: (name, address, zip code, rating, room_type, beds, people, price)\n",
    "#room type:1 the best"
   ]
  },
  {
   "cell_type": "code",
   "execution_count": 7,
   "metadata": {},
   "outputs": [
    {
     "data": {
      "text/plain": [
       "'https://www.airbnb.com/s/Paris--France/all?adults=1&children=0&checkin=2019-02-14&checkout=2019-02-21&refinement_paths%5B%5D=%2Fhomes&allow_override%5B%5D=&s_tag=Vobyce0e'"
      ]
     },
     "execution_count": 7,
     "metadata": {},
     "output_type": "execute_result"
    }
   ],
   "source": [
    "destination ='Paris--France'\n",
    "adult_num='1'\n",
    "child_num='0'\n",
    "cktin_date='2019-02-14'\n",
    "cktout_date='2019-02-21'\n",
    "url= \"https://www.airbnb.com/s/\"+destination+\"/homes?adults=\"+adult_num+\"&children=\"+child_num+\"&checkin=\"+cktin_date\\\n",
    "+\"&checkout=\"+cktout_date+\"&refinement_paths%5B%5D=%2\"+\"Fhomes&allow_override%5B%5D=&s_tag=Vobyce0e\"\n",
    "url"
   ]
  },
  {
   "cell_type": "code",
   "execution_count": 8,
   "metadata": {},
   "outputs": [
    {
     "name": "stdout",
     "output_type": "stream",
     "text": [
      "Success\n"
     ]
    }
   ],
   "source": [
    "import requests\n",
    "from bs4 import BeautifulSoup\n",
    "response = requests.get(url)\n",
    "if response.status_code == 200:\n",
    "    print(\"Success\")\n",
    "else:\n",
    "    print(\"Failure\")"
   ]
  },
  {
   "cell_type": "code",
   "execution_count": null,
   "metadata": {
    "collapsed": true
   },
   "outputs": [],
   "source": [
    "all_a_tags = results_page.find_all('a')"
   ]
  }
 ],
 "metadata": {
  "kernelspec": {
   "display_name": "Python 3",
   "language": "python",
   "name": "python3"
  },
  "language_info": {
   "codemirror_mode": {
    "name": "ipython",
    "version": 3
   },
   "file_extension": ".py",
   "mimetype": "text/x-python",
   "name": "python",
   "nbconvert_exporter": "python",
   "pygments_lexer": "ipython3",
   "version": "3.6.1"
  }
 },
 "nbformat": 4,
 "nbformat_minor": 2
}
