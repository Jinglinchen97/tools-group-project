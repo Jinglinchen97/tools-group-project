{
 "cells": [
  {
   "cell_type": "code",
   "execution_count": 6,
   "metadata": {},
   "outputs": [],
   "source": [
    "import json\n",
    "import requests\n",
    "from bs4 import BeautifulSoup\n",
    "from lxml import html"
   ]
  },
  {
   "cell_type": "code",
   "execution_count": 111,
   "metadata": {},
   "outputs": [],
   "source": [
    "url = 'https://www.expedia.com/Flights-Search?trip=oneway&leg1=from%3ANew%20York%2C%20NY%2C%20United%20States%20(JFK)%2Cto%3AParis%2C%20France%20(PAR)%2Cdeparture%3A02%2F14%2F2019TANYT&passengers=adults%3A1%2Cchildren%3A0%2Cseniors%3A0%2Cinfantinlap%3AY&options=cabinclass%3Aeconomy&mode=search&origref=www.expedia.com'"
   ]
  },
  {
   "cell_type": "code",
   "execution_count": 112,
   "metadata": {},
   "outputs": [],
   "source": [
    "response = requests.get(url)\n",
    "response.status_code"
   ]
  },
  {
   "cell_type": "code",
   "execution_count": 114,
   "metadata": {},
   "outputs": [],
   "source": [
    "results_page = BeautifulSoup(response.content,\"html.parser\")\n",
    "#print(results_page.prettify())"
   ]
  },
  {
   "cell_type": "code",
   "execution_count": 115,
   "metadata": {},
   "outputs": [],
   "source": [
    "flight_list = results_page.find_all('li',{'class':'flight-module segment offer-listing '})"
   ]
  },
  {
   "cell_type": "code",
   "execution_count": 118,
   "metadata": {},
   "outputs": [
    {
     "data": {
      "text/plain": [
       "'v5-sos-424d8874bf5c4c0fbe70fe0ac98635a3-27-1~2.S~AQoCCAESBwjUBBABGAEgASAHIAkgDSAMKAJYAQ~AQpFCiAIxLIBEgQ3MDEyGKlRIOI7KNC6pAEw_r2kAThYQABYAQohCMSyARIEMzYzOBjiOyCuxAEoncGkATCVwqQBOEhAAFgBEgoICxABGAgqAkRZGAEiBAgBEAEoAigDKAQwAw'"
      ]
     },
     "execution_count": 118,
     "metadata": {},
     "output_type": "execute_result"
    }
   ],
   "source": [
    "flight_list[0]#.find('button').get('data-trip-id')\n",
    "#.find('div',{'data-test-id':\"flight-info\"}).get_text().split()\n",
    "#.find('div',{'class':'secondary-content no-wrap'}).find_all('span')"
   ]
  },
  {
   "cell_type": "code",
   "execution_count": 120,
   "metadata": {},
   "outputs": [],
   "source": [
    "all_flight = []\n",
    "budget = 370\n",
    "for i in flight_list:\n",
    "    price = i.find('h3').get_text()\n",
    "    price = float(price[price.find('$')+1:])\n",
    "    if price <= budget:\n",
    "        depart_time = i.find('span',{'data-test-id':\"departure-time\"}).get_text()\n",
    "        arrival_time = i.find('span',{'data-test-id':\"arrival-time\"}).get_text()\n",
    "        #stop = i.find('span',{'data-test-num-stops':\"arrival-time\"}).get_text()\n",
    "        airline = i.find('div',{'data-test-id':\"airline-name\"}).get_text().strip()\n",
    "        depart_airport = i.find('div',{'data-test-id':\"flight-info\"}).get_text().split()[2]\n",
    "        arrival_airport = i.find('div',{'data-test-id':\"flight-info\"}).get_text().split()[-1]\n",
    "        link = 'https://www.expedia.com/Flight-Information?offerToken=' + flight_list[0].find('button').get('data-trip-id')\n",
    "        flight = (depart_airport,arrival_airport,depart_time,arrival_time,price,link)\n",
    "        all_flight.append(flight)\n",
    "    "
   ]
  },
  {
   "cell_type": "code",
   "execution_count": 121,
   "metadata": {},
   "outputs": [
    {
     "data": {
      "text/plain": [
       "[('JFK',\n",
       "  'ORY',\n",
       "  '11:00pm',\n",
       "  '9:05pm',\n",
       "  326.7,\n",
       "  'https://www.expedia.com/Flight-Information?offerToken=v5-sos-424d8874bf5c4c0fbe70fe0ac98635a3-27-1~2.S~AQoCCAESBwjUBBABGAEgASAHIAkgDSAMKAJYAQ~AQpFCiAIxLIBEgQ3MDEyGKlRIOI7KNC6pAEw_r2kAThYQABYAQohCMSyARIEMzYzOBjiOyCuxAEoncGkATCVwqQBOEhAAFgBEgoICxABGAgqAkRZGAEiBAgBEAEoAigDKAQwAw'),\n",
       " ('JFK',\n",
       "  'ORY',\n",
       "  '11:30pm',\n",
       "  '4:55pm',\n",
       "  332.86,\n",
       "  'https://www.expedia.com/Flight-Information?offerToken=v5-sos-424d8874bf5c4c0fbe70fe0ac98635a3-27-1~2.S~AQoCCAESBwjUBBABGAEgASAHIAkgDSAMKAJYAQ~AQpFCiAIxLIBEgQ3MDEyGKlRIOI7KNC6pAEw_r2kAThYQABYAQohCMSyARIEMzYzOBjiOyCuxAEoncGkATCVwqQBOEhAAFgBEgoICxABGAgqAkRZGAEiBAgBEAEoAigDKAQwAw'),\n",
       " ('JFK',\n",
       "  'ORY',\n",
       "  '11:30pm',\n",
       "  '7:50pm',\n",
       "  332.86,\n",
       "  'https://www.expedia.com/Flight-Information?offerToken=v5-sos-424d8874bf5c4c0fbe70fe0ac98635a3-27-1~2.S~AQoCCAESBwjUBBABGAEgASAHIAkgDSAMKAJYAQ~AQpFCiAIxLIBEgQ3MDEyGKlRIOI7KNC6pAEw_r2kAThYQABYAQohCMSyARIEMzYzOBjiOyCuxAEoncGkATCVwqQBOEhAAFgBEgoICxABGAgqAkRZGAEiBAgBEAEoAigDKAQwAw'),\n",
       " ('JFK',\n",
       "  'ORY',\n",
       "  '11:30pm',\n",
       "  '9:40pm',\n",
       "  332.86,\n",
       "  'https://www.expedia.com/Flight-Information?offerToken=v5-sos-424d8874bf5c4c0fbe70fe0ac98635a3-27-1~2.S~AQoCCAESBwjUBBABGAEgASAHIAkgDSAMKAJYAQ~AQpFCiAIxLIBEgQ3MDEyGKlRIOI7KNC6pAEw_r2kAThYQABYAQohCMSyARIEMzYzOBjiOyCuxAEoncGkATCVwqQBOEhAAFgBEgoICxABGAgqAkRZGAEiBAgBEAEoAigDKAQwAw'),\n",
       " ('JFK',\n",
       "  'ORY',\n",
       "  '11:30pm',\n",
       "  '11:05pm',\n",
       "  332.86,\n",
       "  'https://www.expedia.com/Flight-Information?offerToken=v5-sos-424d8874bf5c4c0fbe70fe0ac98635a3-27-1~2.S~AQoCCAESBwjUBBABGAEgASAHIAkgDSAMKAJYAQ~AQpFCiAIxLIBEgQ3MDEyGKlRIOI7KNC6pAEw_r2kAThYQABYAQohCMSyARIEMzYzOBjiOyCuxAEoncGkATCVwqQBOEhAAFgBEgoICxABGAgqAkRZGAEiBAgBEAEoAigDKAQwAw')]"
      ]
     },
     "execution_count": 121,
     "metadata": {},
     "output_type": "execute_result"
    }
   ],
   "source": [
    "all_flight"
   ]
  },
  {
   "cell_type": "code",
   "execution_count": null,
   "metadata": {},
   "outputs": [],
   "source": []
  }
 ],
 "metadata": {
  "kernelspec": {
   "display_name": "Python 3",
   "language": "python",
   "name": "python3"
  },
  "language_info": {
   "codemirror_mode": {
    "name": "ipython",
    "version": 3
   },
   "file_extension": ".py",
   "mimetype": "text/x-python",
   "name": "python",
   "nbconvert_exporter": "python",
   "pygments_lexer": "ipython3",
   "version": "3.6.5"
  }
 },
 "nbformat": 4,
 "nbformat_minor": 2
}
